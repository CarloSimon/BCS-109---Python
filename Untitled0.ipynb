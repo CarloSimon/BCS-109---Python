{
  "nbformat": 4,
  "nbformat_minor": 0,
  "metadata": {
    "colab": {
      "name": "Untitled0.ipynb",
      "provenance": [],
      "collapsed_sections": []
    },
    "kernelspec": {
      "name": "python3",
      "display_name": "Python 3"
    }
  },
  "cells": [
    {
      "cell_type": "markdown",
      "metadata": {
        "id": "MrTQuew0tACc",
        "colab_type": "text"
      },
      "source": [
        "##About Me\n",
        "My name is **Carlo Simon** and I really like playing video games, i enjoy watching e-sports which is what you call _video game sports competitions_. My favortie team is TSM which has multiple teams across many games like: Valorant, League of Legends, and Fortnite."
      ]
    }
  ]
}